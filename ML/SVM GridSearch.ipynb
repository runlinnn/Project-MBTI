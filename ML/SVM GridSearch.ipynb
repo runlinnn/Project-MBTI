{
 "cells": [
  {
   "cell_type": "code",
   "execution_count": 74,
   "metadata": {},
   "outputs": [],
   "source": [
    "from sklearn.model_selection import train_test_split\n",
    "from sklearn.feature_extraction.text import CountVectorizer\n",
    "from sklearn.feature_extraction.text import TfidfTransformer\n",
    "from scipy.sparse import coo_matrix, hstack\n",
    "from sklearn.metrics import accuracy_score, f1_score, precision_score, recall_score, classification_report, confusion_matrix\n",
    "from sklearn.model_selection import GridSearchCV\n",
    "from sklearn.pipeline import Pipeline\n",
    "from sklearn.preprocessing import StandardScaler\n",
    "from sklearn import svm\n",
    "import shap"
   ]
  },
  {
   "cell_type": "code",
   "execution_count": 82,
   "metadata": {},
   "outputs": [],
   "source": [
    "df = pd.read_csv(\"combined_with_split_tags.csv\", index_col = 0)"
   ]
  },
  {
   "cell_type": "code",
   "execution_count": 86,
   "metadata": {},
   "outputs": [],
   "source": [
    "df = df.drop(columns = ['count'])"
   ]
  },
  {
   "cell_type": "code",
   "execution_count": 87,
   "metadata": {},
   "outputs": [
    {
     "data": {
      "text/plain": [
       "Index(['Cleaned_Text', 'Length', 'Emoticons_count', 'Emoticons Avg',\n",
       "       'Unique_Words', 'TTR', 'anger', 'anticipation', 'disgust', 'fear',\n",
       "       'joy', 'negative', 'positive', 'sadness', 'surprise', 'trust',\n",
       "       'Afinn Score', 'Polarity', 'Subjectivity', 'num_noun', 'num_adj',\n",
       "       'num_prep', 'num_det', 'num_pron', 'num_verb', 'num_adverb',\n",
       "       'num_interject', 'lowercase', 'uppercase', 'uppercase_num',\n",
       "       'proper cap', 'contractions_num', 'emotionalpunctuations_num',\n",
       "       'readable_num', 'hedge_perc', 'firstperson_perc', 'thirdperson_perc',\n",
       "       'Kincaid', 'ARI', 'Coleman-Liau', 'FleschReadingEase',\n",
       "       'GunningFogIndex', 'LIX', 'SMOGIndex', 'RIX', 'DaleChallIndex',\n",
       "       'characters_per_word', 'syll_per_word', 'words_per_sentence',\n",
       "       'sentences_per_paragraph', 'type_token_ratio', 'characters',\n",
       "       'syllables', 'words', 'wordtypes', 'sentences', 'paragraphs',\n",
       "       'long_words', 'complex_words', 'complex_words_dc', 'tobeverb',\n",
       "       'auxverb', 'conjunction', 'pronoun', 'preposition', 'nominalization',\n",
       "       'pronoun.1', 'interrogative', 'article', 'subordination',\n",
       "       'conjunction.1', 'preposition.1', 'E_I', 'N_S', 'F_T', 'J_P'],\n",
       "      dtype='object')"
      ]
     },
     "execution_count": 87,
     "metadata": {},
     "output_type": "execute_result"
    }
   ],
   "source": [
    "df.columns"
   ]
  },
  {
   "cell_type": "code",
   "execution_count": 88,
   "metadata": {},
   "outputs": [],
   "source": [
    "X = df.iloc[:,:-4]\n",
    "y_targets = df.iloc[:,-4:]"
   ]
  },
  {
   "cell_type": "code",
   "execution_count": 89,
   "metadata": {},
   "outputs": [],
   "source": [
    "X_train, X_test, y_train_targets, y_test_targets = train_test_split(X, y_targets,random_state=1, test_size = 0.2)"
   ]
  },
  {
   "cell_type": "code",
   "execution_count": 90,
   "metadata": {},
   "outputs": [
    {
     "data": {
      "text/plain": [
       "(10260, 5000)"
      ]
     },
     "execution_count": 90,
     "metadata": {},
     "output_type": "execute_result"
    }
   ],
   "source": [
    "vect = CountVectorizer(max_features = 5000)\n",
    "X_train_text = X_train['Cleaned_Text']\n",
    "X_train_dtm = vect.fit_transform(X_train_text)\n",
    "X_train_dtm.shape"
   ]
  },
  {
   "cell_type": "code",
   "execution_count": 91,
   "metadata": {},
   "outputs": [
    {
     "data": {
      "text/plain": [
       "(10260, 71)"
      ]
     },
     "execution_count": 91,
     "metadata": {},
     "output_type": "execute_result"
    }
   ],
   "source": [
    "X_train_features = coo_matrix(X_train.iloc[:,1:])\n",
    "X_train_features.shape"
   ]
  },
  {
   "cell_type": "code",
   "execution_count": 92,
   "metadata": {},
   "outputs": [
    {
     "data": {
      "text/plain": [
       "(10260, 5071)"
      ]
     },
     "execution_count": 92,
     "metadata": {},
     "output_type": "execute_result"
    }
   ],
   "source": [
    "X_train_dtm_features = hstack((X_train_dtm,X_train_features))\n",
    "X_train_dtm_features.shape"
   ]
  },
  {
   "cell_type": "code",
   "execution_count": 93,
   "metadata": {},
   "outputs": [
    {
     "data": {
      "text/plain": [
       "(2566, 5000)"
      ]
     },
     "execution_count": 93,
     "metadata": {},
     "output_type": "execute_result"
    }
   ],
   "source": [
    "X_test_dtm = vect.transform(X_test['Cleaned_Text'])\n",
    "X_test_dtm.shape"
   ]
  },
  {
   "cell_type": "code",
   "execution_count": 94,
   "metadata": {},
   "outputs": [
    {
     "data": {
      "text/plain": [
       "(2566, 71)"
      ]
     },
     "execution_count": 94,
     "metadata": {},
     "output_type": "execute_result"
    }
   ],
   "source": [
    "X_test_features = coo_matrix(X_test.iloc[:,1:])\n",
    "X_test_features.shape"
   ]
  },
  {
   "cell_type": "code",
   "execution_count": 95,
   "metadata": {},
   "outputs": [
    {
     "data": {
      "text/plain": [
       "(2566, 5071)"
      ]
     },
     "execution_count": 95,
     "metadata": {},
     "output_type": "execute_result"
    }
   ],
   "source": [
    "X_test_dtm_features = hstack((X_test_dtm,X_test_features))\n",
    "X_test_dtm_features.shape"
   ]
  },
  {
   "cell_type": "markdown",
   "metadata": {},
   "source": [
    "# E_I"
   ]
  },
  {
   "cell_type": "code",
   "execution_count": 99,
   "metadata": {},
   "outputs": [
    {
     "name": "stdout",
     "output_type": "stream",
     "text": [
      "Fitting 3 folds for each of 12 candidates, totalling 36 fits\n"
     ]
    },
    {
     "name": "stderr",
     "output_type": "stream",
     "text": [
      "[Parallel(n_jobs=-1)]: Using backend LokyBackend with 4 concurrent workers.\n",
      "[Parallel(n_jobs=-1)]: Done  36 out of  36 | elapsed: 64.6min finished\n"
     ]
    },
    {
     "name": "stdout",
     "output_type": "stream",
     "text": [
      "E_I\n",
      "Best score: 0.7140350877192981\n",
      "Best params:{'clf__C': 10, 'clf__gamma': 0.01}\n",
      "Accuracy: 0.720966484801247\n"
     ]
    }
   ],
   "source": [
    "svm_clf = Pipeline([('standardscaler', StandardScaler(with_mean=False)), ('clf', svm.SVC()),])\n",
    "\n",
    "Cs = [0.01, 0.1, 1, 10]\n",
    "gammas = [0.01, 0.1, 1]\n",
    "parameters = {'clf__gamma':gammas, 'clf__C':Cs}\n",
    "\n",
    "y_train = y_train_targets['E_I']\n",
    "y_test = y_test_targets['E_I']\n",
    "\n",
    "#model\n",
    "svm_clf_1 = svm_clf.fit(X_train_dtm_features, y_train)\n",
    "gs_svm_clf_1 = GridSearchCV(svm_clf_1, parameters, cv = 3, n_jobs=-1, verbose = 2)\n",
    "gs_svm_clf_1 = gs_svm_clf_1.fit(X_train_dtm_features, y_train)\n",
    "y_pred_1 = gs_svm_clf_1.predict(X_test_dtm_features)\n",
    "acc_1 = accuracy_score(y_test, y_pred_1)\n",
    "    \n",
    "print(f'E_I\\nBest score: {gs_svm_clf_1.best_score_}\\nBest params:{gs_svm_clf_1.best_params_}\\nAccuracy: {acc_1}')"
   ]
  },
  {
   "cell_type": "markdown",
   "metadata": {},
   "source": [
    "# N_S"
   ]
  },
  {
   "cell_type": "code",
   "execution_count": 100,
   "metadata": {},
   "outputs": [
    {
     "name": "stdout",
     "output_type": "stream",
     "text": [
      "Fitting 3 folds for each of 12 candidates, totalling 36 fits\n"
     ]
    },
    {
     "name": "stderr",
     "output_type": "stream",
     "text": [
      "[Parallel(n_jobs=-1)]: Using backend LokyBackend with 4 concurrent workers.\n",
      "[Parallel(n_jobs=-1)]: Done  36 out of  36 | elapsed: 48.5min finished\n"
     ]
    },
    {
     "name": "stdout",
     "output_type": "stream",
     "text": [
      "N_S\n",
      "Best score: 0.8205653021442495\n",
      "Best params:{'clf__C': 0.01, 'clf__gamma': 0.01}\n",
      "Accuracy: 0.8164458300857366\n"
     ]
    }
   ],
   "source": [
    "svm_clf = Pipeline([('standardscaler', StandardScaler(with_mean=False)), ('clf', svm.SVC()),])\n",
    "\n",
    "Cs = [0.01, 0.1, 1, 10]\n",
    "gammas = [0.01, 0.1, 1]\n",
    "parameters = {'clf__gamma':gammas, 'clf__C':Cs}\n",
    "\n",
    "y_train = y_train_targets['N_S']\n",
    "y_test = y_test_targets['N_S']\n",
    "\n",
    "#model\n",
    "svm_clf_2 = svm_clf.fit(X_train_dtm_features, y_train)\n",
    "gs_svm_clf_2 = GridSearchCV(svm_clf_2, parameters, cv = 3, n_jobs=-1, verbose = 2)\n",
    "gs_svm_clf_2 = gs_svm_clf_2.fit(X_train_dtm_features, y_train)\n",
    "y_pred_2 = gs_svm_clf_2.predict(X_test_dtm_features)\n",
    "acc_2 = accuracy_score(y_test, y_pred_2)\n",
    "    \n",
    "print(f'N_S\\nBest score: {gs_svm_clf_2.best_score_}\\nBest params:{gs_svm_clf_2.best_params_}\\nAccuracy: {acc_2}')"
   ]
  },
  {
   "cell_type": "markdown",
   "metadata": {},
   "source": [
    "# F_T"
   ]
  },
  {
   "cell_type": "code",
   "execution_count": 102,
   "metadata": {},
   "outputs": [
    {
     "name": "stdout",
     "output_type": "stream",
     "text": [
      "Fitting 3 folds for each of 12 candidates, totalling 36 fits\n"
     ]
    },
    {
     "name": "stderr",
     "output_type": "stream",
     "text": [
      "[Parallel(n_jobs=-1)]: Using backend LokyBackend with 4 concurrent workers.\n",
      "[Parallel(n_jobs=-1)]: Done  36 out of  36 | elapsed: 42.6min finished\n"
     ]
    },
    {
     "name": "stdout",
     "output_type": "stream",
     "text": [
      "F_T\n",
      "Best score: 0.503411306042885\n",
      "Best params:{'clf__C': 1, 'clf__gamma': 0.01}\n",
      "Accuracy: 0.5128604832424006\n"
     ]
    }
   ],
   "source": [
    "svm_clf = Pipeline([('standardscaler', StandardScaler(with_mean=False)), ('clf', svm.SVC()),])\n",
    "\n",
    "Cs = [0.01, 0.1, 1, 10]\n",
    "gammas = [0.01, 0.1, 1]\n",
    "parameters = {'clf__gamma':gammas, 'clf__C':Cs}\n",
    "\n",
    "y_train = y_train_targets['F_T']\n",
    "y_test = y_test_targets['F_T']\n",
    "\n",
    "#model\n",
    "svm_clf_3 = svm_clf.fit(X_train_dtm_features, y_train)\n",
    "gs_svm_clf_3 = GridSearchCV(svm_clf_3, parameters, cv = 3, n_jobs=-1, verbose = 2)\n",
    "gs_svm_clf_3 = gs_svm_clf_3.fit(X_train_dtm_features, y_train)\n",
    "y_pred_3 = gs_svm_clf_3.predict(X_test_dtm_features)\n",
    "acc_3 = accuracy_score(y_test, y_pred_3)\n",
    "    \n",
    "print(f'F_T\\nBest score: {gs_svm_clf_3.best_score_}\\nBest params:{gs_svm_clf_3.best_params_}\\nAccuracy: {acc_3}')"
   ]
  },
  {
   "cell_type": "markdown",
   "metadata": {},
   "source": [
    "# J_P"
   ]
  },
  {
   "cell_type": "code",
   "execution_count": 103,
   "metadata": {},
   "outputs": [
    {
     "name": "stdout",
     "output_type": "stream",
     "text": [
      "Fitting 3 folds for each of 12 candidates, totalling 36 fits\n"
     ]
    },
    {
     "name": "stderr",
     "output_type": "stream",
     "text": [
      "[Parallel(n_jobs=-1)]: Using backend LokyBackend with 4 concurrent workers.\n",
      "A worker stopped while some jobs were given to the executor. This can be caused by a too short worker timeout or by a memory leak.\n",
      "[Parallel(n_jobs=-1)]: Done  36 out of  36 | elapsed: 42.6min finished\n"
     ]
    },
    {
     "name": "stdout",
     "output_type": "stream",
     "text": [
      "J_P\n",
      "Best score: 0.5846003898635478\n",
      "Best params:{'clf__C': 1, 'clf__gamma': 0.01}\n",
      "Accuracy: 0.5810600155884645\n"
     ]
    }
   ],
   "source": [
    "svm_clf = Pipeline([('standardscaler', StandardScaler(with_mean=False)), ('clf', svm.SVC()),])\n",
    "\n",
    "Cs = [0.01, 0.1, 1, 10]\n",
    "gammas = [0.01, 0.1, 1]\n",
    "parameters = {'clf__gamma':gammas, 'clf__C':Cs}\n",
    "\n",
    "y_train = y_train_targets['J_P']\n",
    "y_test = y_test_targets['J_P']\n",
    "\n",
    "#model\n",
    "svm_clf_4 = svm_clf.fit(X_train_dtm_features, y_train)\n",
    "gs_svm_clf_4 = GridSearchCV(svm_clf_4, parameters, cv = 3, n_jobs=-1, verbose = 2)\n",
    "gs_svm_clf_4 = gs_svm_clf_4.fit(X_train_dtm_features, y_train)\n",
    "y_pred_4 = gs_svm_clf_4.predict(X_test_dtm_features)\n",
    "acc_4 = accuracy_score(y_test, y_pred_4)\n",
    "    \n",
    "print(f'J_P\\nBest score: {gs_svm_clf_4.best_score_}\\nBest params:{gs_svm_clf_4.best_params_}\\nAccuracy: {acc_4}')"
   ]
  }
 ],
 "metadata": {
  "kernelspec": {
   "display_name": "Python 3",
   "language": "python",
   "name": "python3"
  },
  "language_info": {
   "codemirror_mode": {
    "name": "ipython",
    "version": 3
   },
   "file_extension": ".py",
   "mimetype": "text/x-python",
   "name": "python",
   "nbconvert_exporter": "python",
   "pygments_lexer": "ipython3",
   "version": "3.7.4"
  }
 },
 "nbformat": 4,
 "nbformat_minor": 2
}
